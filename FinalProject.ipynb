{
 "cells": [
  {
   "cell_type": "markdown",
   "metadata": {},
   "source": [
    "# Final Project: Data Analysis using Spark\n",
    "\n",
    "\n",
    "\n",
    "This final project is similar to the Practice Project you did. In this project, you will not be provided with hints or solutions. You will create a DataFrame by loading data from a CSV file and apply transformations and actions using Spark SQL. This needs to be achieved by performing the following tasks:\n",
    "\n",
    "- Task 1: Generate DataFrame from CSV data.\n",
    "- Task 2: Define a schema for the data.\n",
    "- Task 3: Display schema of DataFrame.\n",
    "- Task 4: Create a temporary view.\n",
    "- Task 5: Execute an SQL query.\n",
    "- Task 6: Calculate Average Salary by Department.\n",
    "- Task 7: Filter and Display IT Department Employees.\n",
    "- Task 8: Add 10% Bonus to Salaries.\n",
    "- Task 9: Find Maximum Salary by Age.\n",
    "- Task 10: Self-Join on Employee Data.\n",
    "- Task 11: Calculate Average Employee Age.\n",
    "- Task 12: Calculate Total Salary by Department.\n",
    "- Task 13: Sort Data by Age and Salary.\n",
    "- Task 14: Count Employees in Each Department.\n",
    "- Task 15: Filter Employees with the letter o in the Name.\n"
   ]
  },
  {
   "cell_type": "markdown",
   "metadata": {},
   "source": [
    "### Prerequisites \n",
    "\n",
    "1. For this lab assignment, you will be using Python and Spark (PySpark). Therefore, it's essential to make sure that the following libraries are installed in your lab environment or within Skills Network (SN) Labs\n"
   ]
  },
  {
   "cell_type": "code",
   "execution_count": 1,
   "metadata": {
    "tags": []
   },
   "outputs": [
    {
     "name": "stdout",
     "output_type": "stream",
     "text": [
      "Collecting pyspark\n",
      "  Downloading pyspark-3.4.2.tar.gz (311.1 MB)\n",
      "\u001b[2K     \u001b[90m━━━━━━━━━━━━━━━━━━━━━━━━━━━━━━━━━━━━━━━\u001b[0m \u001b[32m311.1/311.1 MB\u001b[0m \u001b[31m1.6 MB/s\u001b[0m eta \u001b[36m0:00:00\u001b[0m00:01\u001b[0m00:01\u001b[0m\n",
      "\u001b[?25h  Preparing metadata (setup.py) ... \u001b[?25ldone\n",
      "\u001b[?25hCollecting findspark\n",
      "  Downloading findspark-2.0.1-py2.py3-none-any.whl (4.4 kB)\n",
      "Requirement already satisfied: wget in /home/jupyterlab/conda/envs/python/lib/python3.7/site-packages (3.2)\n",
      "Collecting py4j==0.10.9.7 (from pyspark)\n",
      "  Downloading py4j-0.10.9.7-py2.py3-none-any.whl (200 kB)\n",
      "\u001b[2K     \u001b[90m━━━━━━━━━━━━━━━━━━━━━━━━━━━━━━━━━━━━━━\u001b[0m \u001b[32m200.5/200.5 kB\u001b[0m \u001b[31m33.2 MB/s\u001b[0m eta \u001b[36m0:00:00\u001b[0m\n",
      "\u001b[?25hBuilding wheels for collected packages: pyspark\n",
      "  Building wheel for pyspark (setup.py) ... \u001b[?25ldone\n",
      "\u001b[?25h  Created wheel for pyspark: filename=pyspark-3.4.2-py2.py3-none-any.whl size=311619841 sha256=6fd7d795bb4562ecde2f85570b135905dd4fe0363539621c6343d3903d37f491\n",
      "  Stored in directory: /home/jupyterlab/.cache/pip/wheels/c3/8a/ac/cd39777597318310141c8a783c06f516815a66194f100f96b6\n",
      "Successfully built pyspark\n",
      "Installing collected packages: py4j, findspark, pyspark\n",
      "Successfully installed findspark-2.0.1 py4j-0.10.9.7 pyspark-3.4.2\n"
     ]
    }
   ],
   "source": [
    "# Installing required packages  \n",
    "\n",
    "!pip install pyspark  findspark wget\n"
   ]
  },
  {
   "cell_type": "code",
   "execution_count": 10,
   "metadata": {
    "tags": []
   },
   "outputs": [],
   "source": [
    "import findspark\n",
    "\n",
    "findspark.init()"
   ]
  },
  {
   "cell_type": "code",
   "execution_count": 12,
   "metadata": {
    "tags": []
   },
   "outputs": [],
   "source": [
    "# PySpark is the Spark API for Python. In this lab, we use PySpark to initialize the SparkContext.   \n",
    "\n",
    "from pyspark import SparkContext, SparkConf\n",
    "\n",
    "from pyspark.sql import SparkSession\n",
    "\n",
    "from pyspark.sql.types import StructType, StructField, StringType, IntegerType"
   ]
  },
  {
   "cell_type": "code",
   "execution_count": 13,
   "metadata": {
    "tags": []
   },
   "outputs": [],
   "source": [
    "# Creating a SparkContext object  \n",
    "\n",
    "sc = SparkContext.getOrCreate()\n",
    "\n",
    "# Creating a SparkSession  \n",
    "\n",
    "spark = SparkSession \\\n",
    "    .builder \\\n",
    "    .appName(\"Python Spark DataFrames basic example\") \\\n",
    "    .config(\"spark.some.config.option\", \"some-value\") \\\n",
    "    .getOrCreate()"
   ]
  },
  {
   "cell_type": "markdown",
   "metadata": {},
   "source": [
    "2. Download the CSV data.  \n"
   ]
  },
  {
   "cell_type": "code",
   "execution_count": 14,
   "metadata": {
    "tags": []
   },
   "outputs": [
    {
     "data": {
      "text/plain": [
       "'employees (1).csv'"
      ]
     },
     "execution_count": 14,
     "metadata": {},
     "output_type": "execute_result"
    }
   ],
   "source": [
    "# Download the CSV data first into a local `employees.csv` file\n",
    "import wget\n",
    "wget.download(\"https://cf-courses-data.s3.us.cloud-object-storage.appdomain.cloud/IBM-BD0225EN-SkillsNetwork/data/employees.csv\")"
   ]
  },
  {
   "cell_type": "markdown",
   "metadata": {},
   "source": [
    "### Tasks\n"
   ]
  },
  {
   "cell_type": "markdown",
   "metadata": {},
   "source": [
    "#### Task 1: Generate a Spark DataFrame from the CSV data\n",
    "\n",
    "Read data from the provided CSV file, `employees.csv` and import it into a Spark DataFrame variable named `employees_df`.\n",
    "\n",
    " \n"
   ]
  },
  {
   "cell_type": "code",
   "execution_count": 15,
   "metadata": {
    "tags": []
   },
   "outputs": [],
   "source": [
    "# Read data from the \"emp\" CSV file and import it into a DataFrame variable named \"employees_df\"  \n",
    "employees_df = spark.read.csv(\"employees.csv\", header=True, inferSchema=True)"
   ]
  },
  {
   "cell_type": "markdown",
   "metadata": {},
   "source": [
    "#### Task 2: Define a schema for the data\n",
    "\n",
    "Construct a schema for the input data and then utilize the defined schema to read the CSV file to create a DataFrame named `employees_df`.  \n"
   ]
  },
  {
   "cell_type": "code",
   "execution_count": 16,
   "metadata": {
    "tags": []
   },
   "outputs": [
    {
     "name": "stdout",
     "output_type": "stream",
     "text": [
      "+------+---------+------+---+----------+\n",
      "|Emp_No| Emp_Name|Salary|Age|Department|\n",
      "+------+---------+------+---+----------+\n",
      "|   198|   Donald|  2600| 29|        IT|\n",
      "|   199|  Douglas|  2600| 34|     Sales|\n",
      "|   200| Jennifer|  4400| 36| Marketing|\n",
      "|   201|  Michael| 13000| 32|        IT|\n",
      "|   202|      Pat|  6000| 39|        HR|\n",
      "|   203|    Susan|  6500| 36| Marketing|\n",
      "|   204|  Hermann| 10000| 29|   Finance|\n",
      "|   205|  Shelley| 12008| 33|   Finance|\n",
      "|   206|  William|  8300| 37|        IT|\n",
      "|   100|   Steven| 24000| 39|        IT|\n",
      "|   101|    Neena| 17000| 27|     Sales|\n",
      "|   102|      Lex| 17000| 37| Marketing|\n",
      "|   103|Alexander|  9000| 39| Marketing|\n",
      "|   104|    Bruce|  6000| 38|        IT|\n",
      "|   105|    David|  4800| 39|        IT|\n",
      "|   106|    Valli|  4800| 38|     Sales|\n",
      "|   107|    Diana|  4200| 35|     Sales|\n",
      "|   108|    Nancy| 12008| 28|     Sales|\n",
      "|   109|   Daniel|  9000| 35|        HR|\n",
      "|   110|     John|  8200| 31| Marketing|\n",
      "+------+---------+------+---+----------+\n",
      "only showing top 20 rows\n",
      "\n"
     ]
    }
   ],
   "source": [
    "# Define a Schema for the input data and read the file using the user-defined Schema\n",
    "employees_df.show()\n",
    "\n",
    "schema = StructType([\n",
    "    StructField(\"Emp_No\", IntegerType(), True),\n",
    "    StructField(\"Emp_Name\", StringType(), True),\n",
    "    StructField(\"Salary\", IntegerType(), True),\n",
    "    StructField(\"Age\", IntegerType(), True),\n",
    "    StructField(\"Department\", StringType(), True)\n",
    "])\n",
    "\n",
    "employees_df = spark.read.csv(\"employees.csv\", header=True, schema=schema)"
   ]
  },
  {
   "cell_type": "markdown",
   "metadata": {},
   "source": [
    "#### Task 3: Display schema of DataFrame\n",
    "\n",
    "Display the schema of the `employees_df` DataFrame, showing all columns and their respective data types.  \n"
   ]
  },
  {
   "cell_type": "code",
   "execution_count": 17,
   "metadata": {
    "tags": []
   },
   "outputs": [
    {
     "name": "stdout",
     "output_type": "stream",
     "text": [
      "root\n",
      " |-- Emp_No: integer (nullable = true)\n",
      " |-- Emp_Name: string (nullable = true)\n",
      " |-- Salary: integer (nullable = true)\n",
      " |-- Age: integer (nullable = true)\n",
      " |-- Department: string (nullable = true)\n",
      "\n"
     ]
    }
   ],
   "source": [
    "# Display all columns of the DataFrame, along with their respective data types\n",
    "\n",
    "employees_df.printSchema()"
   ]
  },
  {
   "cell_type": "markdown",
   "metadata": {},
   "source": [
    "#### Task 4: Create a temporary view\n",
    "\n",
    "Create a temporary view named `employees` for the `employees_df` DataFrame, enabling Spark SQL queries on the data. \n"
   ]
  },
  {
   "cell_type": "code",
   "execution_count": 18,
   "metadata": {
    "tags": []
   },
   "outputs": [],
   "source": [
    "# Create a temporary view named \"employees\" for the DataFrame\n",
    "\n",
    "employees_df.createOrReplaceTempView(\"employees\")"
   ]
  },
  {
   "cell_type": "markdown",
   "metadata": {},
   "source": [
    "#### Task 5: Execute an SQL query\n",
    "\n",
    "Compose and execute an SQL query to fetch the records from the `employees` view where the age of employees exceeds 30. Then, display the result of the SQL query, showcasing the filtered records.\n"
   ]
  },
  {
   "cell_type": "code",
   "execution_count": 20,
   "metadata": {
    "tags": []
   },
   "outputs": [
    {
     "name": "stdout",
     "output_type": "stream",
     "text": [
      "+------+-----------+------+---+----------+\n",
      "|Emp_No|   Emp_Name|Salary|Age|Department|\n",
      "+------+-----------+------+---+----------+\n",
      "|   199|    Douglas|  2600| 34|     Sales|\n",
      "|   200|   Jennifer|  4400| 36| Marketing|\n",
      "|   201|    Michael| 13000| 32|        IT|\n",
      "|   202|        Pat|  6000| 39|        HR|\n",
      "|   203|      Susan|  6500| 36| Marketing|\n",
      "|   205|    Shelley| 12008| 33|   Finance|\n",
      "|   206|    William|  8300| 37|        IT|\n",
      "|   100|     Steven| 24000| 39|        IT|\n",
      "|   102|        Lex| 17000| 37| Marketing|\n",
      "|   103|  Alexander|  9000| 39| Marketing|\n",
      "|   104|      Bruce|  6000| 38|        IT|\n",
      "|   105|      David|  4800| 39|        IT|\n",
      "|   106|      Valli|  4800| 38|     Sales|\n",
      "|   107|      Diana|  4200| 35|     Sales|\n",
      "|   109|     Daniel|  9000| 35|        HR|\n",
      "|   110|       John|  8200| 31| Marketing|\n",
      "|   111|     Ismael|  7700| 32|        IT|\n",
      "|   112|Jose Manuel|  7800| 34|        HR|\n",
      "|   113|       Luis|  6900| 34|     Sales|\n",
      "|   116|     Shelli|  2900| 37|   Finance|\n",
      "+------+-----------+------+---+----------+\n",
      "only showing top 20 rows\n",
      "\n"
     ]
    }
   ],
   "source": [
    "# SQL query to fetch solely the records from the View where the age exceeds 30\n",
    "\n",
    "sql_query = \"\"\"\n",
    "select *\n",
    "from employees\n",
    "where age > 30\n",
    "\"\"\"\n",
    "\n",
    "results = spark.sql(sql_query)\n",
    "\n",
    "results.show()"
   ]
  },
  {
   "cell_type": "markdown",
   "metadata": {},
   "source": [
    "#### Task 6: Calculate Average Salary by Department\n",
    "\n",
    "Compose an SQL query to retrieve the average salary of employees grouped by department. Display the result.\n"
   ]
  },
  {
   "cell_type": "code",
   "execution_count": 22,
   "metadata": {
    "tags": []
   },
   "outputs": [
    {
     "name": "stderr",
     "output_type": "stream",
     "text": [
      "[Stage 17:============================================>          (60 + 11) / 75]"
     ]
    },
    {
     "name": "stdout",
     "output_type": "stream",
     "text": [
      "+----------+-----------------+\n",
      "|Department|      avg(Salary)|\n",
      "+----------+-----------------+\n",
      "|     Sales|5492.923076923077|\n",
      "|        HR|           5837.5|\n",
      "|   Finance|           5730.8|\n",
      "| Marketing|6633.333333333333|\n",
      "|        IT|           7400.0|\n",
      "+----------+-----------------+\n",
      "\n"
     ]
    },
    {
     "name": "stderr",
     "output_type": "stream",
     "text": [
      "                                                                                \r"
     ]
    }
   ],
   "source": [
    "# SQL query to calculate the average salary of employees grouped by department\n",
    "\n",
    "sql_query = \"\"\"\n",
    "select Department,avg(Salary)\n",
    "from employees\n",
    "group by 1\n",
    "\"\"\"\n",
    "\n",
    "results = spark.sql(sql_query)\n",
    "\n",
    "results.show()"
   ]
  },
  {
   "cell_type": "markdown",
   "metadata": {},
   "source": [
    "#### Task 7: Filter and Display IT Department Employees\n",
    "\n",
    "Apply a filter on the `employees_df` DataFrame to select records where the department is `'IT'`. Display the filtered DataFrame.\n"
   ]
  },
  {
   "cell_type": "code",
   "execution_count": 26,
   "metadata": {
    "tags": []
   },
   "outputs": [
    {
     "name": "stdout",
     "output_type": "stream",
     "text": [
      "+------+--------+------+---+----------+\n",
      "|Emp_No|Emp_Name|Salary|Age|Department|\n",
      "+------+--------+------+---+----------+\n",
      "|   198|  Donald|  2600| 29|        IT|\n",
      "|   201| Michael| 13000| 32|        IT|\n",
      "|   206| William|  8300| 37|        IT|\n",
      "|   100|  Steven| 24000| 39|        IT|\n",
      "|   104|   Bruce|  6000| 38|        IT|\n",
      "|   105|   David|  4800| 39|        IT|\n",
      "|   111|  Ismael|  7700| 32|        IT|\n",
      "|   129|   Laura|  3300| 38|        IT|\n",
      "|   132|      TJ|  2100| 34|        IT|\n",
      "|   136|   Hazel|  2200| 29|        IT|\n",
      "+------+--------+------+---+----------+\n",
      "\n"
     ]
    }
   ],
   "source": [
    "# Apply a filter to select records where the department is 'IT'\n",
    "\n",
    "filtered_df = employees_df.filter(\"Department = 'IT'\")\n",
    "\n",
    "filtered_df.show()"
   ]
  },
  {
   "cell_type": "markdown",
   "metadata": {},
   "source": [
    "#### Task 8: Add 10% Bonus to Salaries\n",
    "\n",
    "Perform a transformation to add a new column named \"SalaryAfterBonus\" to the DataFrame. Calculate the new salary by adding a 10% bonus to each employee's salary.\n"
   ]
  },
  {
   "cell_type": "code",
   "execution_count": 27,
   "metadata": {
    "tags": []
   },
   "outputs": [
    {
     "name": "stdout",
     "output_type": "stream",
     "text": [
      "+------+---------+------+---+----------+------------------+\n",
      "|Emp_No| Emp_Name|Salary|Age|Department|  SalaryAfterBonus|\n",
      "+------+---------+------+---+----------+------------------+\n",
      "|   198|   Donald|  2600| 29|        IT|2860.0000000000005|\n",
      "|   199|  Douglas|  2600| 34|     Sales|2860.0000000000005|\n",
      "|   200| Jennifer|  4400| 36| Marketing|            4840.0|\n",
      "|   201|  Michael| 13000| 32|        IT|14300.000000000002|\n",
      "|   202|      Pat|  6000| 39|        HR| 6600.000000000001|\n",
      "|   203|    Susan|  6500| 36| Marketing| 7150.000000000001|\n",
      "|   204|  Hermann| 10000| 29|   Finance|           11000.0|\n",
      "|   205|  Shelley| 12008| 33|   Finance|13208.800000000001|\n",
      "|   206|  William|  8300| 37|        IT|            9130.0|\n",
      "|   100|   Steven| 24000| 39|        IT|26400.000000000004|\n",
      "|   101|    Neena| 17000| 27|     Sales|           18700.0|\n",
      "|   102|      Lex| 17000| 37| Marketing|           18700.0|\n",
      "|   103|Alexander|  9000| 39| Marketing|            9900.0|\n",
      "|   104|    Bruce|  6000| 38|        IT| 6600.000000000001|\n",
      "|   105|    David|  4800| 39|        IT|            5280.0|\n",
      "|   106|    Valli|  4800| 38|     Sales|            5280.0|\n",
      "|   107|    Diana|  4200| 35|     Sales|            4620.0|\n",
      "|   108|    Nancy| 12008| 28|     Sales|13208.800000000001|\n",
      "|   109|   Daniel|  9000| 35|        HR|            9900.0|\n",
      "|   110|     John|  8200| 31| Marketing|            9020.0|\n",
      "+------+---------+------+---+----------+------------------+\n",
      "only showing top 20 rows\n",
      "\n"
     ]
    }
   ],
   "source": [
    "from pyspark.sql.functions import col\n",
    "\n",
    "# Add a new column \"SalaryAfterBonus\" with 10% bonus added to the original salary\n",
    "\n",
    "employees_df = employees_df.withColumn('SalaryAfterBonus', col(\"Salary\") * 1.1)\n",
    "\n",
    "employees_df.show()"
   ]
  },
  {
   "cell_type": "markdown",
   "metadata": {},
   "source": [
    "#### Task 9: Find Maximum Salary by Age\n",
    "\n",
    "Group the data by age and calculate the maximum salary for each age group. Display the result.\n"
   ]
  },
  {
   "cell_type": "code",
   "execution_count": 28,
   "metadata": {
    "tags": []
   },
   "outputs": [
    {
     "name": "stderr",
     "output_type": "stream",
     "text": [
      "[Stage 29:=====================================================>  (71 + 4) / 75]"
     ]
    },
    {
     "name": "stdout",
     "output_type": "stream",
     "text": [
      "+---+----------+\n",
      "|Age|Max_Salary|\n",
      "+---+----------+\n",
      "| 31|      8200|\n",
      "| 34|      7800|\n",
      "| 28|     12008|\n",
      "| 27|     17000|\n",
      "| 26|      3600|\n",
      "| 37|     17000|\n",
      "| 35|      9000|\n",
      "| 39|     24000|\n",
      "| 38|      6000|\n",
      "| 29|     10000|\n",
      "| 32|     13000|\n",
      "| 33|     12008|\n",
      "| 30|      8000|\n",
      "| 36|      7900|\n",
      "+---+----------+\n",
      "\n"
     ]
    },
    {
     "name": "stderr",
     "output_type": "stream",
     "text": [
      "                                                                                \r"
     ]
    }
   ],
   "source": [
    "from pyspark.sql.functions import max\n",
    "\n",
    "# Group data by age and calculate the maximum salary for each age group\n",
    "\n",
    "Maximum_Salary_by_Age = employees_df.groupBy('Age').agg(max('Salary').alias('Max_Salary'))\n",
    "\n",
    "Maximum_Salary_by_Age.show()"
   ]
  },
  {
   "cell_type": "markdown",
   "metadata": {},
   "source": [
    "#### Task 10: Self-Join on Employee Data\n",
    "\n",
    "Join the \"employees_df\" DataFrame with itself based on the \"Emp_No\" column. Display the result.\n"
   ]
  },
  {
   "cell_type": "code",
   "execution_count": 29,
   "metadata": {
    "tags": []
   },
   "outputs": [
    {
     "name": "stdout",
     "output_type": "stream",
     "text": [
      "+------+---------+------+---+----------+------------------+---------+------+---+----------+------------------+\n",
      "|Emp_No| Emp_Name|Salary|Age|Department|  SalaryAfterBonus| Emp_Name|Salary|Age|Department|  SalaryAfterBonus|\n",
      "+------+---------+------+---+----------+------------------+---------+------+---+----------+------------------+\n",
      "|   198|   Donald|  2600| 29|        IT|2860.0000000000005|   Donald|  2600| 29|        IT|2860.0000000000005|\n",
      "|   199|  Douglas|  2600| 34|     Sales|2860.0000000000005|  Douglas|  2600| 34|     Sales|2860.0000000000005|\n",
      "|   200| Jennifer|  4400| 36| Marketing|            4840.0| Jennifer|  4400| 36| Marketing|            4840.0|\n",
      "|   201|  Michael| 13000| 32|        IT|14300.000000000002|  Michael| 13000| 32|        IT|14300.000000000002|\n",
      "|   202|      Pat|  6000| 39|        HR| 6600.000000000001|      Pat|  6000| 39|        HR| 6600.000000000001|\n",
      "|   203|    Susan|  6500| 36| Marketing| 7150.000000000001|    Susan|  6500| 36| Marketing| 7150.000000000001|\n",
      "|   204|  Hermann| 10000| 29|   Finance|           11000.0|  Hermann| 10000| 29|   Finance|           11000.0|\n",
      "|   205|  Shelley| 12008| 33|   Finance|13208.800000000001|  Shelley| 12008| 33|   Finance|13208.800000000001|\n",
      "|   206|  William|  8300| 37|        IT|            9130.0|  William|  8300| 37|        IT|            9130.0|\n",
      "|   100|   Steven| 24000| 39|        IT|26400.000000000004|   Steven| 24000| 39|        IT|26400.000000000004|\n",
      "|   101|    Neena| 17000| 27|     Sales|           18700.0|    Neena| 17000| 27|     Sales|           18700.0|\n",
      "|   102|      Lex| 17000| 37| Marketing|           18700.0|      Lex| 17000| 37| Marketing|           18700.0|\n",
      "|   103|Alexander|  9000| 39| Marketing|            9900.0|Alexander|  9000| 39| Marketing|            9900.0|\n",
      "|   104|    Bruce|  6000| 38|        IT| 6600.000000000001|    Bruce|  6000| 38|        IT| 6600.000000000001|\n",
      "|   105|    David|  4800| 39|        IT|            5280.0|    David|  4800| 39|        IT|            5280.0|\n",
      "|   106|    Valli|  4800| 38|     Sales|            5280.0|    Valli|  4800| 38|     Sales|            5280.0|\n",
      "|   107|    Diana|  4200| 35|     Sales|            4620.0|    Diana|  4200| 35|     Sales|            4620.0|\n",
      "|   108|    Nancy| 12008| 28|     Sales|13208.800000000001|    Nancy| 12008| 28|     Sales|13208.800000000001|\n",
      "|   109|   Daniel|  9000| 35|        HR|            9900.0|   Daniel|  9000| 35|        HR|            9900.0|\n",
      "|   110|     John|  8200| 31| Marketing|            9020.0|     John|  8200| 31| Marketing|            9020.0|\n",
      "+------+---------+------+---+----------+------------------+---------+------+---+----------+------------------+\n",
      "only showing top 20 rows\n",
      "\n"
     ]
    }
   ],
   "source": [
    "# Join the DataFrame with itself based on the \"Emp_No\" column\n",
    "\n",
    "Self_Join = employees_df.alias(\"emp1\").join(employees_df.alias(\"emp2\"), \"Emp_No\")\n",
    "\n",
    "Self_Join.show()"
   ]
  },
  {
   "cell_type": "markdown",
   "metadata": {},
   "source": [
    "#### Task 11: Calculate Average Employee Age\n",
    "\n",
    "Calculate the average age of employees using the built-in aggregation function. Display the result.\n"
   ]
  },
  {
   "cell_type": "code",
   "execution_count": 30,
   "metadata": {
    "tags": []
   },
   "outputs": [
    {
     "name": "stdout",
     "output_type": "stream",
     "text": [
      "+--------+\n",
      "|avg(Age)|\n",
      "+--------+\n",
      "|   33.56|\n",
      "+--------+\n",
      "\n"
     ]
    }
   ],
   "source": [
    "# Calculate the average age of employees\n",
    "from pyspark.sql.functions import avg \n",
    "\n",
    "Average_Employee_Age = employees_df.agg(avg('Age'))\n",
    "\n",
    "Average_Employee_Age.show()"
   ]
  },
  {
   "cell_type": "markdown",
   "metadata": {},
   "source": [
    "#### Task 12: Calculate Total Salary by Department\n",
    "\n",
    "Calculate the total salary for each department using the built-in aggregation function. Display the result.\n"
   ]
  },
  {
   "cell_type": "code",
   "execution_count": 32,
   "metadata": {
    "tags": []
   },
   "outputs": [
    {
     "name": "stderr",
     "output_type": "stream",
     "text": [
      "                                                                                \r"
     ]
    },
    {
     "name": "stdout",
     "output_type": "stream",
     "text": [
      "+----------+------------+\n",
      "|Department|Total_Salary|\n",
      "+----------+------------+\n",
      "|     Sales|       71408|\n",
      "|        HR|       46700|\n",
      "|   Finance|       57308|\n",
      "| Marketing|       59700|\n",
      "|        IT|       74000|\n",
      "+----------+------------+\n",
      "\n"
     ]
    },
    {
     "name": "stderr",
     "output_type": "stream",
     "text": [
      "                                                                                \r"
     ]
    }
   ],
   "source": [
    "# Calculate the total salary for each department. Hint - User GroupBy and Aggregate functions\n",
    "from pyspark.sql.functions import sum \n",
    "\n",
    "Total_Salary_by_Department = employees_df.groupBy('Department').agg(sum('Salary').alias('Total_Salary'))\n",
    "\n",
    "Total_Salary_by_Department.show()"
   ]
  },
  {
   "cell_type": "markdown",
   "metadata": {},
   "source": [
    "#### Task 13: Sort Data by Age and Salary\n",
    "\n",
    "Apply a transformation to sort the DataFrame by age in ascending order and then by salary in descending order. Display the sorted DataFrame.\n"
   ]
  },
  {
   "cell_type": "code",
   "execution_count": 34,
   "metadata": {
    "tags": []
   },
   "outputs": [
    {
     "name": "stdout",
     "output_type": "stream",
     "text": [
      "+------+---------+------+---+----------+------------------+\n",
      "|Emp_No| Emp_Name|Salary|Age|Department|  SalaryAfterBonus|\n",
      "+------+---------+------+---+----------+------------------+\n",
      "|   137|   Renske|  3600| 26| Marketing|3960.0000000000005|\n",
      "|   101|    Neena| 17000| 27|     Sales|           18700.0|\n",
      "|   114|      Den| 11000| 27|   Finance|12100.000000000002|\n",
      "|   108|    Nancy| 12008| 28|     Sales|13208.800000000001|\n",
      "|   130|    Mozhe|  2800| 28| Marketing|3080.0000000000005|\n",
      "|   126|    Irene|  2700| 28|        HR|2970.0000000000005|\n",
      "|   204|  Hermann| 10000| 29|   Finance|           11000.0|\n",
      "|   115|Alexander|  3100| 29|   Finance|3410.0000000000005|\n",
      "|   134|  Michael|  2900| 29|     Sales|3190.0000000000005|\n",
      "|   198|   Donald|  2600| 29|        IT|2860.0000000000005|\n",
      "|   140|   Joshua|  2500| 29|   Finance|            2750.0|\n",
      "|   136|    Hazel|  2200| 29|        IT|            2420.0|\n",
      "|   120|  Matthew|  8000| 30|        HR|            8800.0|\n",
      "|   110|     John|  8200| 31| Marketing|            9020.0|\n",
      "|   127|    James|  2400| 31|        HR|            2640.0|\n",
      "|   201|  Michael| 13000| 32|        IT|14300.000000000002|\n",
      "|   111|   Ismael|  7700| 32|        IT|            8470.0|\n",
      "|   119|    Karen|  2500| 32|   Finance|            2750.0|\n",
      "|   205|  Shelley| 12008| 33|   Finance|13208.800000000001|\n",
      "|   124|    Kevin|  5800| 33| Marketing| 6380.000000000001|\n",
      "+------+---------+------+---+----------+------------------+\n",
      "only showing top 20 rows\n",
      "\n"
     ]
    }
   ],
   "source": [
    "# Sort the DataFrame by age in ascending order and then by salary in descending order\n",
    "\n",
    "from pyspark.sql.functions import desc\n",
    "\n",
    "Sort_by_Age_Salary = employees_df.orderBy(\"Age\", desc(\"Salary\"))\n",
    "\n",
    "Sort_by_Age_Salary.show()"
   ]
  },
  {
   "cell_type": "markdown",
   "metadata": {},
   "source": [
    "#### Task 14: Count Employees in Each Department\n",
    "\n",
    "Calculate the number of employees in each department. Display the result.\n"
   ]
  },
  {
   "cell_type": "code",
   "execution_count": 35,
   "metadata": {
    "tags": []
   },
   "outputs": [
    {
     "name": "stderr",
     "output_type": "stream",
     "text": [
      "                                                                                \r"
     ]
    },
    {
     "name": "stdout",
     "output_type": "stream",
     "text": [
      "+----------+---------+\n",
      "|Department|Total_Num|\n",
      "+----------+---------+\n",
      "|     Sales|       13|\n",
      "|        HR|        8|\n",
      "|   Finance|       10|\n",
      "| Marketing|        9|\n",
      "|        IT|       10|\n",
      "+----------+---------+\n",
      "\n"
     ]
    },
    {
     "name": "stderr",
     "output_type": "stream",
     "text": [
      "                                                                                \r"
     ]
    }
   ],
   "source": [
    "from pyspark.sql.functions import count\n",
    "\n",
    "# Calculate the number of employees in each department\n",
    "\n",
    "Count_Employees = employees_df.groupBy('Department').agg(count('Emp_No').alias('Total_Num'))\n",
    "\n",
    "Count_Employees.show()"
   ]
  },
  {
   "cell_type": "markdown",
   "metadata": {},
   "source": [
    "#### Task 15: Filter Employees with the letter o in the Name\n",
    "\n",
    "Apply a filter to select records where the employee's name contains the letter `'o'`. Display the filtered DataFrame.\n"
   ]
  },
  {
   "cell_type": "code",
   "execution_count": 36,
   "metadata": {
    "tags": []
   },
   "outputs": [
    {
     "name": "stdout",
     "output_type": "stream",
     "text": [
      "+------+-----------+------+---+----------+------------------+\n",
      "|Emp_No|   Emp_Name|Salary|Age|Department|  SalaryAfterBonus|\n",
      "+------+-----------+------+---+----------+------------------+\n",
      "|   198|     Donald|  2600| 29|        IT|2860.0000000000005|\n",
      "|   199|    Douglas|  2600| 34|     Sales|2860.0000000000005|\n",
      "|   110|       John|  8200| 31| Marketing|            9020.0|\n",
      "|   112|Jose Manuel|  7800| 34|        HR|            8580.0|\n",
      "|   130|      Mozhe|  2800| 28| Marketing|3080.0000000000005|\n",
      "|   133|      Jason|  3300| 38|     Sales|3630.0000000000005|\n",
      "|   139|       John|  2700| 36|     Sales|2970.0000000000005|\n",
      "|   140|     Joshua|  2500| 29|   Finance|            2750.0|\n",
      "+------+-----------+------+---+----------+------------------+\n",
      "\n"
     ]
    }
   ],
   "source": [
    "# Apply a filter to select records where the employee's name contains the letter 'o'\n",
    "\n",
    "filtered_df = employees_df.filter(col('Emp_Name').like('%o%'))\n",
    "\n",
    "filtered_df.show()"
   ]
  },
  {
   "cell_type": "markdown",
   "metadata": {},
   "source": [
    "# Congratulations! You have completed the project.\n",
    "\n",
    "Now you know how to create a DataFrame from a CSV data file and perform a variety of DataFrame transformations and actions using Spark SQL.\n"
   ]
  },
  {
   "cell_type": "markdown",
   "metadata": {},
   "source": [
    "## Authors\n"
   ]
  },
  {
   "cell_type": "markdown",
   "metadata": {},
   "source": [
    "Raghul Ramesh\n"
   ]
  },
  {
   "cell_type": "markdown",
   "metadata": {},
   "source": [
    "Lavanya T S\n"
   ]
  },
  {
   "cell_type": "markdown",
   "metadata": {},
   "source": [
    "## Change Log\n"
   ]
  },
  {
   "cell_type": "markdown",
   "metadata": {},
   "source": [
    "|Date (YYYY-MM-DD)|Version|Changed By|Change Description|\n",
    "|-|-|-|-|\n",
    "|2023-09-01|0.1|Lavanya T S|Initial version|\n",
    "|2023-09-11|0.2|Pornima More|QA pass with edits|\n"
   ]
  },
  {
   "cell_type": "markdown",
   "metadata": {},
   "source": [
    "Copyright © 2023 IBM Corporation. All rights reserved.\n"
   ]
  }
 ],
 "metadata": {
  "kernelspec": {
   "display_name": "Python",
   "language": "python",
   "name": "conda-env-python-py"
  },
  "language_info": {
   "codemirror_mode": {
    "name": "ipython",
    "version": 3
   },
   "file_extension": ".py",
   "mimetype": "text/x-python",
   "name": "python",
   "nbconvert_exporter": "python",
   "pygments_lexer": "ipython3",
   "version": "3.7.12"
  }
 },
 "nbformat": 4,
 "nbformat_minor": 4
}
